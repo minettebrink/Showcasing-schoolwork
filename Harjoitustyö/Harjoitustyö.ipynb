{
 "cells": [
  {
   "cell_type": "markdown",
   "metadata": {},
   "source": [
    "Minette Brink"
   ]
  },
  {
   "cell_type": "markdown",
   "metadata": {},
   "source": [
    "# Harjoitus työ"
   ]
  },
  {
   "cell_type": "markdown",
   "metadata": {},
   "source": [
    "Valitisn käyttää Pythonia ohjelmointikielinä kaikissa tehtävissä."
   ]
  },
  {
   "cell_type": "markdown",
   "metadata": {},
   "source": [
    "## Tehtävä 1"
   ]
  },
  {
   "cell_type": "markdown",
   "metadata": {},
   "source": [
    "Tehtävän kuvaus:\n",
    "\n",
    "Etsi funktion \n",
    "\n",
    "$f(x)=x^5-5x^3-20x+5$\n",
    "\n",
    "minimi välille $[0,5]$"
   ]
  },
  {
   "cell_type": "markdown",
   "metadata": {},
   "source": [
    "### Menetelmä:\n",
    "Valitsin käyttää ensinmäiseen tehtävään kultaisen leikkauksen menetelmää. Tässä menetelmässä tarvitaan jokaisessa kierroksella kaksi jakopistettä pinentääkseen epävarmuusväliä mutta vain toisessa tarvitsee laskea funktion arvo. Selitän seuraavaksi kultaisen leikkauksen algoritmin: \n",
    "\n",
    "**Askel 1** \n",
    "\n",
    "Valitse lopetus epävarmuusvälin pituus *L*, aloitusepävarmuusväli $[a_1,b_1]$ ja määrää ensimmäiset jakopisteet kaavoilla \n",
    "\n",
    "$\\lambda_1=a_1+(1-\\alpha)(b_1-a_1)$\n",
    "$\\mu_1=a_1+\\alpha(b_1-a_1)$\n",
    "\n",
    "Laske funktion arvot $\\theta(\\lambda_1)$ ja $\\theta(\\mu_1)$. Aseta k = 1 ja siirry askeleeseen 2.\n",
    "\n",
    "**Askel 2**\n",
    "\n",
    "Jos $b_k-a_k<L$, niin lopeta, jolloin lopetusepävarmuusväli on $[a_k, b_k]$. Muussa\n",
    "tapauksessa toimi seuraavasti:\n",
    "Jos $\\theta(\\lambda_k)>\\theta(\\mu_k)$, niin siirry askeleeseen 3.\n",
    "Jos $\\theta(\\lambda_k)≤\\theta(\\mu_k)$, niin siirry askeleeseen 4.\n",
    "\n",
    "**Askel 3**\n",
    "\n",
    "Aseta $a{k+1} =\\lambda_k, b_{k+1} = b_k, \\lambda_{k+1} = \\mu_k$ ja\n",
    "$\\mu_{k+1} = a_{k+1} + \\alpha(b_{k+1} - a_{k+1})$\n",
    "Laske arvo $\\theta(\\mu_{k+1})$ ja siirry askeleeseen 5.\n",
    "\n",
    "**Askel 4**\n",
    "\n",
    "Aseta $a_{k+1} = a_k, b_{k+1} = \\mu_k, \\mu_{k+1} = \\lambda_k$ ja\n",
    "$\\lambda_{k+1} = a_{k+1} + (1 -\\alpha)(b_{k+1} - a_{k+1})$\n",
    "Laske arvo $\\theta(\\lambda_{k+1})$ ja siirry askeleeseen 5."
   ]
  },
  {
   "cell_type": "markdown",
   "metadata": {},
   "source": [
    "### Tietorakenteiden kuvaus:\n",
    "Ensin rakenisin yleisämmän koodin missä on kaikki eri osat jotka vaaditaan algorimilta. Sen jälkeen käytin koodia ratkoakseen annetun tehtävän."
   ]
  },
  {
   "cell_type": "markdown",
   "metadata": {},
   "source": [
    "### Tulos:\n",
    "- Ratkaisu on että minimi löytyy $[1.9999983875285001,2.000005423370487]$ nähden kahden arvon välillä \n",
    "- Tehtiin kolme iteraatiota"
   ]
  },
  {
   "cell_type": "code",
   "execution_count": 1,
   "metadata": {},
   "outputs": [],
   "source": [
    "import math"
   ]
  },
  {
   "cell_type": "code",
   "execution_count": 43,
   "metadata": {},
   "outputs": [
    {
     "output_type": "stream",
     "name": "stdout",
     "text": [
      "Kohdefunktion minimi on (1.9999983875285001, 2.000005423370487)\n"
     ]
    }
   ],
   "source": [
    " \n",
    "invphi = (math.sqrt(5) - 1) / 2\n",
    "invphi2 = (3 - math.sqrt(5)) / 2 \n",
    "\n",
    "def gss(f, a, b, tol=1e-5):\n",
    "\n",
    "    (a, b) = (min(a, b), max(a, b))\n",
    "    h = b - a\n",
    "    if h <= tol:\n",
    "        return (a, b)\n",
    "\n",
    "   \n",
    "    n = int(math.ceil(math.log(tol / h) / math.log(invphi)))\n",
    "\n",
    "    c = a + invphi2 * h\n",
    "    d = a + invphi * h\n",
    "    yc = f(c)\n",
    "    yd = f(d)\n",
    "\n",
    "    for k in range(n-1):\n",
    "        if yc < yd:\n",
    "            b = d\n",
    "            d = c\n",
    "            yd = yc\n",
    "            h = invphi * h\n",
    "            c = a + invphi2 * h\n",
    "            yc = f(c)\n",
    "        else:\n",
    "            a = c\n",
    "            c = d\n",
    "            yc = yd\n",
    "            h = invphi * h\n",
    "            d = a + invphi * h\n",
    "            yd = f(d)\n",
    "\n",
    "    if yc < yd:\n",
    "        return (a, d)\n",
    "    else:\n",
    "        return (c, b)\n",
    "  \n",
    "\n",
    "f = lambda x: x**5-5*x**3-20*x-5\n",
    "a = 0\n",
    "b = 5\n",
    "tol = 1e-5\n",
    "(c,d) = gss(f, a, b, tol)\n",
    "print(f\"Kohdefunktion minimi on {c, d}\")\n",
    " \n",
    "    "
   ]
  },
  {
   "cell_type": "markdown",
   "metadata": {},
   "source": [
    "# Tehtävä 2"
   ]
  },
  {
   "cell_type": "markdown",
   "metadata": {},
   "source": [
    "Tehtävän kuvaus:\n",
    "\n",
    "Etsi funktion \n",
    "\n",
    "$f(x,y)=(y-x^2)^2+(1-x)^2$\n",
    "\n",
    "minimi välille $(-1.2,1)$"
   ]
  },
  {
   "cell_type": "markdown",
   "metadata": {},
   "source": [
    "### Mentelmä: \n",
    "Valitsin käyttää Newtonin mentelmää vaikka se ei ole niin luotettava. Pääosin valtisin Newtonin menetelmän koska halusin harjoitella enemmän mentelmän käyttöä. Tässä tehtävässä oli helppo laskea Hessenmatriisi, joka mahdollisti menetelmän käyttöä. \n",
    "\n",
    "$q(x)=f(x_k)+\\nabla f(x_k)^T(x-x_k)+1/2(x-x_k)^T H(x_k)(x-x_k)$\n",
    "missä $x$ on vektori ja $H(x_k)$ on Hessen matriisi pisteesä $x$. Kvadraattisen funktion minimi löytyy sen gradientin nollakohdasta. Eli, on ratkaistava yhtälö\n",
    "$q(x)=\\nabla f(x_k) H(x_k)(x-x_k)=0$\n",
    "tästä saadaan seuraava piste mikä on \n",
    "\n",
    "$x_{k+1}=x_k-H(x_k)^{-1} \\nabla f(x_k)$"
   ]
  },
  {
   "cell_type": "markdown",
   "metadata": {},
   "source": [
    "### Tietorakenteiden kuvaus:\n",
    "Tässä tapauksessa otin sisään erilaisia kirjastoja jotka tarvitsin tehtvän koodamiseen. Aloin myös heti ratkoamaan tehtävää enkä kirjoittanut ylestä koodia. Toistin manuaalisesti kodoiin koska halusin nähdä miten tulos muuttuu. "
   ]
  },
  {
   "cell_type": "markdown",
   "metadata": {},
   "source": [
    "### Tulos:\n",
    "- Lopulluninen ratkaisu on $4.403211242367881e-06$ $[0.99973892, 0.99739584]$ missä eninsmäinen luku on funktion arvo. \n",
    "- iteraatioiden lukumäärä on $5$ mutta $4$ olisi riitäänyt"
   ]
  },
  {
   "cell_type": "code",
   "execution_count": 42,
   "metadata": {},
   "outputs": [],
   "source": [
    "import numpy as np\n",
    "import sympy\n",
    "from sympy import symbols, diff\n",
    "import numpy.linalg as la\n",
    "\n",
    "import scipy.optimize as sopt"
   ]
  },
  {
   "cell_type": "code",
   "execution_count": 8,
   "metadata": {},
   "outputs": [],
   "source": [
    "def f(X):\n",
    "    x = X[0]\n",
    "    y = X[1]\n",
    "    val = (y-x**2)**2 + (1-x)**2\n",
    "    return val\n",
    "\n",
    "\n",
    "def df(X):\n",
    "    x = X[0]\n",
    "    y = X[1]\n",
    "    val1 = 4*x**3-4*x*y+2*x-2\n",
    "    val2 = 2*y-2*x**2\n",
    "    return np.array([val1, val2])\n",
    "\n",
    "def ddf(X):\n",
    "    x = X[0]\n",
    "    y = X[1]\n",
    "    val11 = 12*x**2-4*y+2\n",
    "    val12 = -4 * x\n",
    "    val21 = -4 * x\n",
    "    val22 = 2\n",
    "    return np.array([[val11, val12], [val21, val22]])"
   ]
  },
  {
   "cell_type": "code",
   "execution_count": 35,
   "metadata": {},
   "outputs": [
    {
     "output_type": "stream",
     "name": "stdout",
     "text": [
      "Iteraatio 1: funktion arvo 2.9357124041510088 välillä [-0.02978723 -1.36851064]\nIteraatio 2: funktion arvo 0.574805754312907 välillä [ 0.24564563 -0.01552149]\nIteraatio 3: funktion arvo 0.19391245375083924 välillä [0.90062262 0.38212624]\nIteraatio 4: funktion arvo 0.002114156487255377 välillä [0.95410913 0.90746342]\nIteraatio 5: funktion arvo 4.403211242367765e-06 välillä [0.99973892 0.99739584]\n"
     ]
    }
   ],
   "source": [
    "guesses = [np.array([-1.2, 1])]\n",
    "\n",
    "for i in range(5):\n",
    "    x = guesses[-1]\n",
    "    s = la.solve(ddf(x), df(x))\n",
    "    next_guess = x - s\n",
    "    \n",
    "    print(f\"Iteraatio {i+1}: funktion arvo {f(next_guess)} välillä {next_guess}\")\n",
    "   \n",
    "    guesses.append(next_guess)\n",
    "\n",
    "   "
   ]
  },
  {
   "cell_type": "markdown",
   "metadata": {},
   "source": [
    "# Tehtävä 3"
   ]
  },
  {
   "cell_type": "markdown",
   "metadata": {},
   "source": [
    "Etsi tehtävän \n",
    "\n",
    "$min\\,\\ x^2+y^2$\n",
    "\n",
    "$s.t. \\,\\ (x-3)^2+(y-3)^2≤5$\n",
    "\n",
    "$y≥x+1$\n",
    "\n",
    "$2y≤14-x^2$\n",
    "\n",
    "minimi lähtien pisteestä $(2,5)$"
   ]
  },
  {
   "cell_type": "markdown",
   "metadata": {},
   "source": [
    "### Menetelmä\n",
    "Valitsin käyttää ulkopuolisensakkofunktion mentelmää. Algoritmi on seuraavaa:\n",
    "\n",
    "**Askel 1** \n",
    "\n",
    "Valitse lopetusta varten $\\epsilon > 0$. Valitse aloituspiste $x_1$, joka ei tarvitse olla\n",
    "sallittu. Sakkoparametri $\\mu_1 > 0$ ja kasvatuskerroin $\\beta > 1$. Aseta $k = 1$ ja siirry\n",
    "askeleeseen $2$.\n",
    "\n",
    "**Askel 2**\n",
    "\n",
    "Kun piste $x_k$ tunnetaan, niin ratkaistaan tehtävä\n",
    "\n",
    "$min \\,\\ f(x) + \\mu_k\\alpha(x)$\n",
    "\n",
    "$s.t. \\,\\ x\\in X$\n",
    "\n",
    "pitäen pistettä $x_k$ aloituspisteenä. Olkoon tämän tehtävän ratkaisu $x_k+1$. Siirry\n",
    "askeleeseen 3.\n",
    "\n",
    "**Askel 3** \n",
    "\n",
    "Jos $\\mu_k\\alpha(x_{k+1}) < \\epsilon$, niin lopeta. Tällöin piste $x_{k+1}$ on ratkaisu. Muussa tapauksessa\n",
    "laske ensin $\\mu_{k+1 }= \\beta \\mu_k$. Aseta sitten $k\\leftarrow k + 1$ ja siirry askeleeseen\n",
    "2.\n"
   ]
  },
  {
   "cell_type": "markdown",
   "metadata": {},
   "source": [
    "### Tietorakenteiden kuvaus:\n",
    "Tässä tapauksessa toimin samalla tavala kuin tehtävässa $2$. Ensin märitin kohdefunktion ja rajoitukset ja sen jälkeen käytin sakkofunktio mentelmää. "
   ]
  },
  {
   "cell_type": "markdown",
   "metadata": {},
   "source": [
    "### Tulos:\n",
    "- Lopulluninen ratkaisu on $[1.00002746, 1.9999176 ]$ \n",
    "- iteraatioiden lukumäärä on $51$ joka antaa tarkan tuloksen. "
   ]
  },
  {
   "cell_type": "code",
   "execution_count": 36,
   "metadata": {},
   "outputs": [],
   "source": [
    "from scipy.optimize import minimize, rosen\n",
    "f = lambda x: (x[0] ** 2 + x[1] ** 2)\n",
    "g_1 = lambda x: (5 - (x[0] - 3) ** 2 - (x[1] - 3) ** 2)\n",
    "g_2 = lambda x: (x[1] - x[0] - 1)\n",
    "g_3 = lambda x: (14 - x[0] ** 2 - 2*x[1])\n",
    "\n"
   ]
  },
  {
   "cell_type": "code",
   "execution_count": 41,
   "metadata": {},
   "outputs": [
    {
     "output_type": "stream",
     "name": "stdout",
     "text": [
      "Kohdefunktion minimi on [1.00002746 1.9999176 ]\nIteraatioiden lukumäärä on 51\n"
     ]
    }
   ],
   "source": [
    "x_c = [2, 5]\n",
    "a = 1\n",
    "i = 0\n",
    "while a < 10000:\n",
    "    curr_func = lambda x: f(x) + a * (min(0, g_1(x)) ** 2  + min(0, g_2(x)) ** 2 + min(0, g_3(x)) ** 2)\n",
    "    x_c = minimize(curr_func, x_c).x\n",
    "    a  *= 1.2\n",
    "    i += 1\n",
    "print(f\"Kohdefunktion minimi on {x_c}\")\n",
    "print(f\"Iteraatioiden lukumäärä on {i}\")\n",
    "\n"
   ]
  },
  {
   "cell_type": "code",
   "execution_count": null,
   "metadata": {},
   "outputs": [],
   "source": []
  }
 ],
 "metadata": {
  "kernelspec": {
   "name": "python3",
   "display_name": "Python 3.9.0 64-bit"
  },
  "language_info": {
   "codemirror_mode": {
    "name": "ipython",
    "version": 3
   },
   "file_extension": ".py",
   "mimetype": "text/x-python",
   "name": "python",
   "nbconvert_exporter": "python",
   "pygments_lexer": "ipython3",
   "version": "3.9.0"
  },
  "interpreter": {
   "hash": "aee8b7b246df8f9039afb4144a1f6fd8d2ca17a180786b69acc140d282b71a49"
  }
 },
 "nbformat": 4,
 "nbformat_minor": 4
}